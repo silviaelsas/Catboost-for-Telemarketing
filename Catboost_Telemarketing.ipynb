{
  "nbformat": 4,
  "nbformat_minor": 0,
  "metadata": {
    "colab": {
      "name": "Catboost 2.ipynb",
      "provenance": []
    },
    "kernelspec": {
      "name": "python3",
      "display_name": "Python 3"
    }
  },
  "cells": [
    {
      "cell_type": "code",
      "metadata": {
        "id": "gz6Ph9Dd2CNY",
        "colab": {
          "base_uri": "https://localhost:8080/"
        },
        "outputId": "206295aa-0825-4651-a28c-c21f8eeebdb5"
      },
      "source": [
        "from google.colab import drive\n",
        "drive.mount('/content/drive')"
      ],
      "execution_count": null,
      "outputs": [
        {
          "output_type": "stream",
          "text": [
            "Mounted at /content/drive\n"
          ],
          "name": "stdout"
        }
      ]
    },
    {
      "cell_type": "code",
      "metadata": {
        "id": "4kx9bwde2ZQ2",
        "colab": {
          "base_uri": "https://localhost:8080/",
          "height": 202
        },
        "outputId": "3fdc8961-8a1f-4cdc-b578-28eaaba8f40a"
      },
      "source": [
        "import pandas as pd\n",
        "data=pd.read_csv(\"/content/drive/My Drive/databank/marketbank.csv\")\n",
        "data.head()"
      ],
      "execution_count": null,
      "outputs": [
        {
          "output_type": "execute_result",
          "data": {
            "text/html": [
              "<div>\n",
              "<style scoped>\n",
              "    .dataframe tbody tr th:only-of-type {\n",
              "        vertical-align: middle;\n",
              "    }\n",
              "\n",
              "    .dataframe tbody tr th {\n",
              "        vertical-align: top;\n",
              "    }\n",
              "\n",
              "    .dataframe thead th {\n",
              "        text-align: right;\n",
              "    }\n",
              "</style>\n",
              "<table border=\"1\" class=\"dataframe\">\n",
              "  <thead>\n",
              "    <tr style=\"text-align: right;\">\n",
              "      <th></th>\n",
              "      <th>age</th>\n",
              "      <th>duration</th>\n",
              "      <th>campaign</th>\n",
              "      <th>pdays</th>\n",
              "      <th>previous</th>\n",
              "      <th>emp.var.rate</th>\n",
              "      <th>cons.price.idx</th>\n",
              "      <th>cons.conf.idx</th>\n",
              "      <th>euribor3m</th>\n",
              "      <th>nr.employed</th>\n",
              "      <th>job</th>\n",
              "      <th>marital</th>\n",
              "      <th>education</th>\n",
              "      <th>default</th>\n",
              "      <th>housing</th>\n",
              "      <th>loan</th>\n",
              "      <th>contact</th>\n",
              "      <th>month</th>\n",
              "      <th>day_of_week</th>\n",
              "      <th>poutcome</th>\n",
              "      <th>y</th>\n",
              "    </tr>\n",
              "  </thead>\n",
              "  <tbody>\n",
              "    <tr>\n",
              "      <th>0</th>\n",
              "      <td>56</td>\n",
              "      <td>261</td>\n",
              "      <td>1</td>\n",
              "      <td>999</td>\n",
              "      <td>0</td>\n",
              "      <td>1.1</td>\n",
              "      <td>93.994</td>\n",
              "      <td>-36.4</td>\n",
              "      <td>4.857</td>\n",
              "      <td>5191.0</td>\n",
              "      <td>housemaid</td>\n",
              "      <td>married</td>\n",
              "      <td>basic.4y</td>\n",
              "      <td>no</td>\n",
              "      <td>no</td>\n",
              "      <td>no</td>\n",
              "      <td>telephone</td>\n",
              "      <td>may</td>\n",
              "      <td>mon</td>\n",
              "      <td>nonexistent</td>\n",
              "      <td>no</td>\n",
              "    </tr>\n",
              "    <tr>\n",
              "      <th>1</th>\n",
              "      <td>37</td>\n",
              "      <td>226</td>\n",
              "      <td>1</td>\n",
              "      <td>999</td>\n",
              "      <td>0</td>\n",
              "      <td>1.1</td>\n",
              "      <td>93.994</td>\n",
              "      <td>-36.4</td>\n",
              "      <td>4.857</td>\n",
              "      <td>5191.0</td>\n",
              "      <td>services</td>\n",
              "      <td>married</td>\n",
              "      <td>high.school</td>\n",
              "      <td>no</td>\n",
              "      <td>yes</td>\n",
              "      <td>no</td>\n",
              "      <td>telephone</td>\n",
              "      <td>may</td>\n",
              "      <td>mon</td>\n",
              "      <td>nonexistent</td>\n",
              "      <td>no</td>\n",
              "    </tr>\n",
              "    <tr>\n",
              "      <th>2</th>\n",
              "      <td>40</td>\n",
              "      <td>151</td>\n",
              "      <td>1</td>\n",
              "      <td>999</td>\n",
              "      <td>0</td>\n",
              "      <td>1.1</td>\n",
              "      <td>93.994</td>\n",
              "      <td>-36.4</td>\n",
              "      <td>4.857</td>\n",
              "      <td>5191.0</td>\n",
              "      <td>admin.</td>\n",
              "      <td>married</td>\n",
              "      <td>basic.6y</td>\n",
              "      <td>no</td>\n",
              "      <td>no</td>\n",
              "      <td>no</td>\n",
              "      <td>telephone</td>\n",
              "      <td>may</td>\n",
              "      <td>mon</td>\n",
              "      <td>nonexistent</td>\n",
              "      <td>no</td>\n",
              "    </tr>\n",
              "    <tr>\n",
              "      <th>3</th>\n",
              "      <td>56</td>\n",
              "      <td>307</td>\n",
              "      <td>1</td>\n",
              "      <td>999</td>\n",
              "      <td>0</td>\n",
              "      <td>1.1</td>\n",
              "      <td>93.994</td>\n",
              "      <td>-36.4</td>\n",
              "      <td>4.857</td>\n",
              "      <td>5191.0</td>\n",
              "      <td>services</td>\n",
              "      <td>married</td>\n",
              "      <td>high.school</td>\n",
              "      <td>no</td>\n",
              "      <td>no</td>\n",
              "      <td>yes</td>\n",
              "      <td>telephone</td>\n",
              "      <td>may</td>\n",
              "      <td>mon</td>\n",
              "      <td>nonexistent</td>\n",
              "      <td>no</td>\n",
              "    </tr>\n",
              "    <tr>\n",
              "      <th>4</th>\n",
              "      <td>59</td>\n",
              "      <td>139</td>\n",
              "      <td>1</td>\n",
              "      <td>999</td>\n",
              "      <td>0</td>\n",
              "      <td>1.1</td>\n",
              "      <td>93.994</td>\n",
              "      <td>-36.4</td>\n",
              "      <td>4.857</td>\n",
              "      <td>5191.0</td>\n",
              "      <td>admin.</td>\n",
              "      <td>married</td>\n",
              "      <td>professional.course</td>\n",
              "      <td>no</td>\n",
              "      <td>no</td>\n",
              "      <td>no</td>\n",
              "      <td>telephone</td>\n",
              "      <td>may</td>\n",
              "      <td>mon</td>\n",
              "      <td>nonexistent</td>\n",
              "      <td>no</td>\n",
              "    </tr>\n",
              "  </tbody>\n",
              "</table>\n",
              "</div>"
            ],
            "text/plain": [
              "   age  duration  campaign  pdays  ...  month  day_of_week     poutcome   y\n",
              "0   56       261         1    999  ...    may          mon  nonexistent  no\n",
              "1   37       226         1    999  ...    may          mon  nonexistent  no\n",
              "2   40       151         1    999  ...    may          mon  nonexistent  no\n",
              "3   56       307         1    999  ...    may          mon  nonexistent  no\n",
              "4   59       139         1    999  ...    may          mon  nonexistent  no\n",
              "\n",
              "[5 rows x 21 columns]"
            ]
          },
          "metadata": {
            "tags": []
          },
          "execution_count": 2
        }
      ]
    },
    {
      "cell_type": "code",
      "metadata": {
        "id": "nVlKZP6zbB14",
        "colab": {
          "base_uri": "https://localhost:8080/"
        },
        "outputId": "23d7b146-f85e-4cf4-c75b-98157f08453e"
      },
      "source": [
        "data.shape"
      ],
      "execution_count": null,
      "outputs": [
        {
          "output_type": "execute_result",
          "data": {
            "text/plain": [
              "(30488, 21)"
            ]
          },
          "metadata": {
            "tags": []
          },
          "execution_count": 3
        }
      ]
    },
    {
      "cell_type": "code",
      "metadata": {
        "id": "DLRP3JNoF0Gr",
        "colab": {
          "base_uri": "https://localhost:8080/"
        },
        "outputId": "c4463774-e5e7-4c52-fdf3-0b956d281364"
      },
      "source": [
        "print(data['y'].value_counts())"
      ],
      "execution_count": null,
      "outputs": [
        {
          "output_type": "stream",
          "text": [
            "no     26629\n",
            "yes     3859\n",
            "Name: y, dtype: int64\n"
          ],
          "name": "stdout"
        }
      ]
    },
    {
      "cell_type": "code",
      "metadata": {
        "id": "hCHuc_xelSKW",
        "colab": {
          "base_uri": "https://localhost:8080/"
        },
        "outputId": "7ac70236-6412-45ca-c83e-010cc8502129"
      },
      "source": [
        "data.info()"
      ],
      "execution_count": null,
      "outputs": [
        {
          "output_type": "stream",
          "text": [
            "<class 'pandas.core.frame.DataFrame'>\n",
            "RangeIndex: 30488 entries, 0 to 30487\n",
            "Data columns (total 21 columns):\n",
            " #   Column          Non-Null Count  Dtype  \n",
            "---  ------          --------------  -----  \n",
            " 0   age             30488 non-null  int64  \n",
            " 1   duration        30488 non-null  int64  \n",
            " 2   campaign        30488 non-null  int64  \n",
            " 3   pdays           30488 non-null  int64  \n",
            " 4   previous        30488 non-null  int64  \n",
            " 5   emp.var.rate    30488 non-null  float64\n",
            " 6   cons.price.idx  30488 non-null  float64\n",
            " 7   cons.conf.idx   30488 non-null  float64\n",
            " 8   euribor3m       30488 non-null  float64\n",
            " 9   nr.employed     30488 non-null  float64\n",
            " 10  job             30488 non-null  object \n",
            " 11  marital         30488 non-null  object \n",
            " 12  education       30488 non-null  object \n",
            " 13  default         30488 non-null  object \n",
            " 14  housing         30488 non-null  object \n",
            " 15  loan            30488 non-null  object \n",
            " 16  contact         30488 non-null  object \n",
            " 17  month           30488 non-null  object \n",
            " 18  day_of_week     30488 non-null  object \n",
            " 19  poutcome        30488 non-null  object \n",
            " 20  y               30488 non-null  object \n",
            "dtypes: float64(5), int64(5), object(11)\n",
            "memory usage: 4.9+ MB\n"
          ],
          "name": "stdout"
        }
      ]
    },
    {
      "cell_type": "code",
      "metadata": {
        "id": "7TmfUCC7VaPa",
        "colab": {
          "base_uri": "https://localhost:8080/"
        },
        "outputId": "8460fb93-5e08-44fc-e3d5-af7812a4fc1d"
      },
      "source": [
        "from imblearn.over_sampling import SMOTENC\n",
        "X = data.drop('y', axis=1)\n",
        "y = data.y"
      ],
      "execution_count": null,
      "outputs": [
        {
          "output_type": "stream",
          "text": [
            "/usr/local/lib/python3.6/dist-packages/sklearn/utils/deprecation.py:144: FutureWarning: The sklearn.neighbors.base module is  deprecated in version 0.22 and will be removed in version 0.24. The corresponding classes / functions should instead be imported from sklearn.neighbors. Anything that cannot be imported from sklearn.neighbors is now part of the private API.\n",
            "  warnings.warn(message, FutureWarning)\n"
          ],
          "name": "stderr"
        }
      ]
    },
    {
      "cell_type": "code",
      "metadata": {
        "id": "T9qWxPIqVm3P",
        "colab": {
          "base_uri": "https://localhost:8080/"
        },
        "outputId": "88fb3e22-51bf-44f1-aede-1b172a6d5e5a"
      },
      "source": [
        "sm = SMOTENC(random_state=42, categorical_features=[10,11,12,13,14,15,16,17,18,19])\n",
        "X_res, y_res =sm.fit_resample(X,y)"
      ],
      "execution_count": null,
      "outputs": [
        {
          "output_type": "stream",
          "text": [
            "/usr/local/lib/python3.6/dist-packages/sklearn/utils/deprecation.py:87: FutureWarning: Function safe_indexing is deprecated; safe_indexing is deprecated in version 0.22 and will be removed in version 0.24.\n",
            "  warnings.warn(msg, category=FutureWarning)\n",
            "/usr/local/lib/python3.6/dist-packages/sklearn/utils/deprecation.py:87: FutureWarning: Function safe_indexing is deprecated; safe_indexing is deprecated in version 0.22 and will be removed in version 0.24.\n",
            "  warnings.warn(msg, category=FutureWarning)\n"
          ],
          "name": "stderr"
        }
      ]
    },
    {
      "cell_type": "code",
      "metadata": {
        "id": "5cZpbMO3ll6_",
        "colab": {
          "base_uri": "https://localhost:8080/",
          "height": 34
        },
        "outputId": "1a05d685-7996-405a-f229-367e86ad8734"
      },
      "source": [
        "from collections import Counter\n",
        "print('Resampled dataset shape %s' % Counter(y_res))"
      ],
      "execution_count": null,
      "outputs": [
        {
          "output_type": "stream",
          "text": [
            "Resampled dataset shape Counter({'no': 26629, 'yes': 26629})\n"
          ],
          "name": "stdout"
        }
      ]
    },
    {
      "cell_type": "code",
      "metadata": {
        "id": "GtK6iMtjls5A",
        "colab": {
          "base_uri": "https://localhost:8080/",
          "height": 34
        },
        "outputId": "5c8f9e04-fb80-43f7-f45b-badfbba684af"
      },
      "source": [
        "X_res.shape, y_res.shape"
      ],
      "execution_count": null,
      "outputs": [
        {
          "output_type": "execute_result",
          "data": {
            "text/plain": [
              "((53258, 20), (53258,))"
            ]
          },
          "metadata": {
            "tags": []
          },
          "execution_count": 9
        }
      ]
    },
    {
      "cell_type": "code",
      "metadata": {
        "id": "eeA2Mrv6l7l9",
        "colab": {
          "base_uri": "https://localhost:8080/",
          "height": 104
        },
        "outputId": "285e9535-fdb3-4bb8-a7a8-a7b4a905c3aa"
      },
      "source": [
        "data.columns"
      ],
      "execution_count": null,
      "outputs": [
        {
          "output_type": "execute_result",
          "data": {
            "text/plain": [
              "Index(['age', 'duration', 'campaign', 'pdays', 'previous', 'emp.var.rate',\n",
              "       'cons.price.idx', 'cons.conf.idx', 'euribor3m', 'nr.employed', 'job',\n",
              "       'marital', 'education', 'default', 'housing', 'loan', 'contact',\n",
              "       'month', 'day_of_week', 'poutcome', 'y'],\n",
              "      dtype='object')"
            ]
          },
          "metadata": {
            "tags": []
          },
          "execution_count": 10
        }
      ]
    },
    {
      "cell_type": "code",
      "metadata": {
        "id": "Om2G2Qmblzh9"
      },
      "source": [
        "dfx=pd.DataFrame(X_res, columns=['age','duration','campaign','pdays','previous','emp.var.rate','cons.price.idx','cons.conf.idx','euribor3m','nr.employed','job','marital','education','default','housing','loan','contact','month','day_of_week','poutcome'])\n",
        "dfy=pd.DataFrame(y_res, columns=['y'])\n",
        "df=pd.concat([dfx, dfy], axis=1)"
      ],
      "execution_count": null,
      "outputs": []
    },
    {
      "cell_type": "code",
      "metadata": {
        "id": "yvb2WcqGmPiq",
        "colab": {
          "base_uri": "https://localhost:8080/",
          "height": 202
        },
        "outputId": "c5e5f4c8-b985-47e4-c9dd-30c53a7da463"
      },
      "source": [
        "dfx.head()"
      ],
      "execution_count": null,
      "outputs": [
        {
          "output_type": "execute_result",
          "data": {
            "text/html": [
              "<div>\n",
              "<style scoped>\n",
              "    .dataframe tbody tr th:only-of-type {\n",
              "        vertical-align: middle;\n",
              "    }\n",
              "\n",
              "    .dataframe tbody tr th {\n",
              "        vertical-align: top;\n",
              "    }\n",
              "\n",
              "    .dataframe thead th {\n",
              "        text-align: right;\n",
              "    }\n",
              "</style>\n",
              "<table border=\"1\" class=\"dataframe\">\n",
              "  <thead>\n",
              "    <tr style=\"text-align: right;\">\n",
              "      <th></th>\n",
              "      <th>age</th>\n",
              "      <th>duration</th>\n",
              "      <th>campaign</th>\n",
              "      <th>pdays</th>\n",
              "      <th>previous</th>\n",
              "      <th>emp.var.rate</th>\n",
              "      <th>cons.price.idx</th>\n",
              "      <th>cons.conf.idx</th>\n",
              "      <th>euribor3m</th>\n",
              "      <th>nr.employed</th>\n",
              "      <th>job</th>\n",
              "      <th>marital</th>\n",
              "      <th>education</th>\n",
              "      <th>default</th>\n",
              "      <th>housing</th>\n",
              "      <th>loan</th>\n",
              "      <th>contact</th>\n",
              "      <th>month</th>\n",
              "      <th>day_of_week</th>\n",
              "      <th>poutcome</th>\n",
              "    </tr>\n",
              "  </thead>\n",
              "  <tbody>\n",
              "    <tr>\n",
              "      <th>0</th>\n",
              "      <td>56</td>\n",
              "      <td>261</td>\n",
              "      <td>1</td>\n",
              "      <td>999</td>\n",
              "      <td>0</td>\n",
              "      <td>1.1</td>\n",
              "      <td>93.994</td>\n",
              "      <td>-36.4</td>\n",
              "      <td>4.857</td>\n",
              "      <td>5191</td>\n",
              "      <td>housemaid</td>\n",
              "      <td>married</td>\n",
              "      <td>basic.4y</td>\n",
              "      <td>no</td>\n",
              "      <td>no</td>\n",
              "      <td>no</td>\n",
              "      <td>telephone</td>\n",
              "      <td>may</td>\n",
              "      <td>mon</td>\n",
              "      <td>nonexistent</td>\n",
              "    </tr>\n",
              "    <tr>\n",
              "      <th>1</th>\n",
              "      <td>37</td>\n",
              "      <td>226</td>\n",
              "      <td>1</td>\n",
              "      <td>999</td>\n",
              "      <td>0</td>\n",
              "      <td>1.1</td>\n",
              "      <td>93.994</td>\n",
              "      <td>-36.4</td>\n",
              "      <td>4.857</td>\n",
              "      <td>5191</td>\n",
              "      <td>services</td>\n",
              "      <td>married</td>\n",
              "      <td>high.school</td>\n",
              "      <td>no</td>\n",
              "      <td>yes</td>\n",
              "      <td>no</td>\n",
              "      <td>telephone</td>\n",
              "      <td>may</td>\n",
              "      <td>mon</td>\n",
              "      <td>nonexistent</td>\n",
              "    </tr>\n",
              "    <tr>\n",
              "      <th>2</th>\n",
              "      <td>40</td>\n",
              "      <td>151</td>\n",
              "      <td>1</td>\n",
              "      <td>999</td>\n",
              "      <td>0</td>\n",
              "      <td>1.1</td>\n",
              "      <td>93.994</td>\n",
              "      <td>-36.4</td>\n",
              "      <td>4.857</td>\n",
              "      <td>5191</td>\n",
              "      <td>admin.</td>\n",
              "      <td>married</td>\n",
              "      <td>basic.6y</td>\n",
              "      <td>no</td>\n",
              "      <td>no</td>\n",
              "      <td>no</td>\n",
              "      <td>telephone</td>\n",
              "      <td>may</td>\n",
              "      <td>mon</td>\n",
              "      <td>nonexistent</td>\n",
              "    </tr>\n",
              "    <tr>\n",
              "      <th>3</th>\n",
              "      <td>56</td>\n",
              "      <td>307</td>\n",
              "      <td>1</td>\n",
              "      <td>999</td>\n",
              "      <td>0</td>\n",
              "      <td>1.1</td>\n",
              "      <td>93.994</td>\n",
              "      <td>-36.4</td>\n",
              "      <td>4.857</td>\n",
              "      <td>5191</td>\n",
              "      <td>services</td>\n",
              "      <td>married</td>\n",
              "      <td>high.school</td>\n",
              "      <td>no</td>\n",
              "      <td>no</td>\n",
              "      <td>yes</td>\n",
              "      <td>telephone</td>\n",
              "      <td>may</td>\n",
              "      <td>mon</td>\n",
              "      <td>nonexistent</td>\n",
              "    </tr>\n",
              "    <tr>\n",
              "      <th>4</th>\n",
              "      <td>59</td>\n",
              "      <td>139</td>\n",
              "      <td>1</td>\n",
              "      <td>999</td>\n",
              "      <td>0</td>\n",
              "      <td>1.1</td>\n",
              "      <td>93.994</td>\n",
              "      <td>-36.4</td>\n",
              "      <td>4.857</td>\n",
              "      <td>5191</td>\n",
              "      <td>admin.</td>\n",
              "      <td>married</td>\n",
              "      <td>professional.course</td>\n",
              "      <td>no</td>\n",
              "      <td>no</td>\n",
              "      <td>no</td>\n",
              "      <td>telephone</td>\n",
              "      <td>may</td>\n",
              "      <td>mon</td>\n",
              "      <td>nonexistent</td>\n",
              "    </tr>\n",
              "  </tbody>\n",
              "</table>\n",
              "</div>"
            ],
            "text/plain": [
              "  age duration campaign pdays  ...    contact month day_of_week     poutcome\n",
              "0  56      261        1   999  ...  telephone   may         mon  nonexistent\n",
              "1  37      226        1   999  ...  telephone   may         mon  nonexistent\n",
              "2  40      151        1   999  ...  telephone   may         mon  nonexistent\n",
              "3  56      307        1   999  ...  telephone   may         mon  nonexistent\n",
              "4  59      139        1   999  ...  telephone   may         mon  nonexistent\n",
              "\n",
              "[5 rows x 20 columns]"
            ]
          },
          "metadata": {
            "tags": []
          },
          "execution_count": 7
        }
      ]
    },
    {
      "cell_type": "code",
      "metadata": {
        "id": "iiEZ8BXmmgHS"
      },
      "source": [
        "df[\"age\"]=df[\"age\"].astype(int)\n",
        "df[\"duration\"]=df[\"duration\"].astype(int)\n",
        "df[\"campaign\"]=df[\"campaign\"].astype(int)\n",
        "df[\"pdays\"]=df[\"pdays\"].astype(int)\n",
        "df[\"previous\"]=df[\"previous\"].astype(int)\n",
        "df[\"emp.var.rate\"]=df[\"emp.var.rate\"].astype(float)\n",
        "df[\"cons.price.idx\"]=df[\"cons.price.idx\"].astype(float)\n",
        "df[\"cons.conf.idx\"]=df[\"cons.conf.idx\"].astype(float)\n",
        "df[\"euribor3m\"]=df[\"euribor3m\"].astype(float)\n",
        "df[\"nr.employed\"]=df[\"nr.employed\"].astype(float)"
      ],
      "execution_count": null,
      "outputs": []
    },
    {
      "cell_type": "code",
      "metadata": {
        "id": "Y51A4AWvrC7M",
        "colab": {
          "base_uri": "https://localhost:8080/",
          "height": 502
        },
        "outputId": "b4b340a3-7f26-4407-dff2-878b36ce6fbd"
      },
      "source": [
        "df.info()"
      ],
      "execution_count": null,
      "outputs": [
        {
          "output_type": "stream",
          "text": [
            "<class 'pandas.core.frame.DataFrame'>\n",
            "RangeIndex: 53258 entries, 0 to 53257\n",
            "Data columns (total 21 columns):\n",
            " #   Column          Non-Null Count  Dtype  \n",
            "---  ------          --------------  -----  \n",
            " 0   age             53258 non-null  int64  \n",
            " 1   duration        53258 non-null  int64  \n",
            " 2   campaign        53258 non-null  int64  \n",
            " 3   pdays           53258 non-null  int64  \n",
            " 4   previous        53258 non-null  int64  \n",
            " 5   emp.var.rate    53258 non-null  float64\n",
            " 6   cons.price.idx  53258 non-null  float64\n",
            " 7   cons.conf.idx   53258 non-null  float64\n",
            " 8   euribor3m       53258 non-null  float64\n",
            " 9   nr.employed     53258 non-null  float64\n",
            " 10  job             53258 non-null  object \n",
            " 11  marital         53258 non-null  object \n",
            " 12  education       53258 non-null  object \n",
            " 13  default         53258 non-null  object \n",
            " 14  housing         53258 non-null  object \n",
            " 15  loan            53258 non-null  object \n",
            " 16  contact         53258 non-null  object \n",
            " 17  month           53258 non-null  object \n",
            " 18  day_of_week     53258 non-null  object \n",
            " 19  poutcome        53258 non-null  object \n",
            " 20  y               53258 non-null  object \n",
            "dtypes: float64(5), int64(5), object(11)\n",
            "memory usage: 8.5+ MB\n"
          ],
          "name": "stdout"
        }
      ]
    },
    {
      "cell_type": "code",
      "metadata": {
        "id": "K8TRr64FrgEL"
      },
      "source": [
        "X_new = df.drop('y',axis=1)\n",
        "y_new = df.y"
      ],
      "execution_count": null,
      "outputs": []
    },
    {
      "cell_type": "code",
      "metadata": {
        "id": "jMqHGR31Halv"
      },
      "source": [
        "import numpy as np\n",
        "cat_features = np.where(X_new.dtypes != np.float)[0]"
      ],
      "execution_count": null,
      "outputs": []
    },
    {
      "cell_type": "code",
      "metadata": {
        "id": "Blqgl1f9ndeE"
      },
      "source": [
        "from sklearn.model_selection import train_test_split\n",
        "X_train, X_test, y_train, y_test = train_test_split(X_new, y_new, train_size=0.8, random_state=42)"
      ],
      "execution_count": null,
      "outputs": []
    },
    {
      "cell_type": "code",
      "metadata": {
        "id": "U1D36XkVBHvb"
      },
      "source": [
        "import hyperopt\n",
        "\n",
        "def hyperopt_objective(params):\n",
        "    model = CatBoostClassifier(\n",
        "        l2_leaf_reg=int(params['l2_leaf_reg']),\n",
        "        learning_rate=params['learning_rate'],\n",
        "        max_depth=params['max_depth'],\n",
        "        iterations=500,\n",
        "        eval_metric='Accuracy',\n",
        "        random_seed=42,\n",
        "        verbose=False,\n",
        "        loss_function='Logloss',\n",
        "    )\n",
        "    \n",
        "    cv_data = cv(\n",
        "        Pool(X_train, y_train, cat_features=cat_features),\n",
        "        model.get_params()\n",
        "    )\n",
        "    best_accuracy = np.max(cv_data['test-Accuracy-mean'])\n",
        "    \n",
        "    return 1 - best_accuracy"
      ],
      "execution_count": null,
      "outputs": []
    },
    {
      "cell_type": "code",
      "metadata": {
        "id": "aMqRCdpyDgvj",
        "colab": {
          "base_uri": "https://localhost:8080/"
        },
        "outputId": "b855082c-39cf-4dbe-9ad9-2a2228976498"
      },
      "source": [
        "!pip install catboost\n",
        "from catboost import CatBoostClassifier, Pool, cv\n",
        "from sklearn.metrics import accuracy_score"
      ],
      "execution_count": null,
      "outputs": [
        {
          "output_type": "stream",
          "text": [
            "Requirement already satisfied: catboost in /usr/local/lib/python3.6/dist-packages (0.24.2)\n",
            "Requirement already satisfied: plotly in /usr/local/lib/python3.6/dist-packages (from catboost) (4.4.1)\n",
            "Requirement already satisfied: pandas>=0.24.0 in /usr/local/lib/python3.6/dist-packages (from catboost) (1.1.4)\n",
            "Requirement already satisfied: scipy in /usr/local/lib/python3.6/dist-packages (from catboost) (1.4.1)\n",
            "Requirement already satisfied: numpy>=1.16.0 in /usr/local/lib/python3.6/dist-packages (from catboost) (1.18.5)\n",
            "Requirement already satisfied: graphviz in /usr/local/lib/python3.6/dist-packages (from catboost) (0.10.1)\n",
            "Requirement already satisfied: matplotlib in /usr/local/lib/python3.6/dist-packages (from catboost) (3.2.2)\n",
            "Requirement already satisfied: six in /usr/local/lib/python3.6/dist-packages (from catboost) (1.15.0)\n",
            "Requirement already satisfied: retrying>=1.3.3 in /usr/local/lib/python3.6/dist-packages (from plotly->catboost) (1.3.3)\n",
            "Requirement already satisfied: pytz>=2017.2 in /usr/local/lib/python3.6/dist-packages (from pandas>=0.24.0->catboost) (2018.9)\n",
            "Requirement already satisfied: python-dateutil>=2.7.3 in /usr/local/lib/python3.6/dist-packages (from pandas>=0.24.0->catboost) (2.8.1)\n",
            "Requirement already satisfied: pyparsing!=2.0.4,!=2.1.2,!=2.1.6,>=2.0.1 in /usr/local/lib/python3.6/dist-packages (from matplotlib->catboost) (2.4.7)\n",
            "Requirement already satisfied: cycler>=0.10 in /usr/local/lib/python3.6/dist-packages (from matplotlib->catboost) (0.10.0)\n",
            "Requirement already satisfied: kiwisolver>=1.0.1 in /usr/local/lib/python3.6/dist-packages (from matplotlib->catboost) (1.3.1)\n"
          ],
          "name": "stdout"
        }
      ]
    },
    {
      "cell_type": "code",
      "metadata": {
        "id": "1YkydGG7BUqJ",
        "colab": {
          "base_uri": "https://localhost:8080/"
        },
        "outputId": "b0be2659-084b-4421-cf89-93912065319a"
      },
      "source": [
        "from numpy.random import RandomState\n",
        "\n",
        "params_space = {\n",
        "    'l2_leaf_reg': hyperopt.hp.qloguniform('l2_leaf_reg', 0, 2, 1),\n",
        "    'learning_rate': hyperopt.hp.uniform('learning_rate', 1e-3, 5e-1),\n",
        "    'max_depth': hyperopt.hp.choice('max_depth', np.arange(5, 11))\n",
        "}\n",
        "\n",
        "trials = hyperopt.Trials()\n",
        "\n",
        "best = hyperopt.fmin(\n",
        "    hyperopt_objective,\n",
        "    space=params_space,\n",
        "    algo=hyperopt.tpe.suggest,\n",
        "    max_evals=25,\n",
        "    trials=trials,\n",
        "    rstate=RandomState(123)\n",
        ")\n",
        "\n",
        "print(best)"
      ],
      "execution_count": null,
      "outputs": [
        {
          "output_type": "stream",
          "text": [
            "100%|██████████| 25/25 [1:44:19<00:00, 250.38s/it, best loss: 0.06236211874411113]\n",
            "{'l2_leaf_reg': 2.0, 'learning_rate': 0.17769813574054494, 'max_depth': 2}\n"
          ],
          "name": "stdout"
        }
      ]
    },
    {
      "cell_type": "code",
      "metadata": {
        "id": "FHPmAG6Sui3-"
      },
      "source": [
        "model = CatBoostClassifier(\n",
        "        l2_leaf_reg=int(best['l2_leaf_reg']),\n",
        "        learning_rate=best['learning_rate'],\n",
        "        max_depth=best['max_depth'],\n",
        "        eval_metric='AUC',\n",
        "        random_seed=42,\n",
        "        verbose=False,\n",
        "        loss_function='Logloss',\n",
        ")\n",
        "cv_data = cv(Pool(X_train, y_train, cat_features=cat_features), model.get_params())"
      ],
      "execution_count": null,
      "outputs": []
    },
    {
      "cell_type": "code",
      "metadata": {
        "id": "1bk-Wo_IOssA",
        "colab": {
          "base_uri": "https://localhost:8080/",
          "height": 433
        },
        "outputId": "97894e62-413f-43e1-c568-635dad2f64bb"
      },
      "source": [
        "cv_data"
      ],
      "execution_count": null,
      "outputs": [
        {
          "output_type": "execute_result",
          "data": {
            "text/html": [
              "<div>\n",
              "<style scoped>\n",
              "    .dataframe tbody tr th:only-of-type {\n",
              "        vertical-align: middle;\n",
              "    }\n",
              "\n",
              "    .dataframe tbody tr th {\n",
              "        vertical-align: top;\n",
              "    }\n",
              "\n",
              "    .dataframe thead th {\n",
              "        text-align: right;\n",
              "    }\n",
              "</style>\n",
              "<table border=\"1\" class=\"dataframe\">\n",
              "  <thead>\n",
              "    <tr style=\"text-align: right;\">\n",
              "      <th></th>\n",
              "      <th>iterations</th>\n",
              "      <th>test-AUC-mean</th>\n",
              "      <th>test-AUC-std</th>\n",
              "      <th>test-Logloss-mean</th>\n",
              "      <th>test-Logloss-std</th>\n",
              "      <th>train-Logloss-mean</th>\n",
              "      <th>train-Logloss-std</th>\n",
              "    </tr>\n",
              "  </thead>\n",
              "  <tbody>\n",
              "    <tr>\n",
              "      <th>0</th>\n",
              "      <td>0</td>\n",
              "      <td>0.765161</td>\n",
              "      <td>0.005434</td>\n",
              "      <td>0.642058</td>\n",
              "      <td>0.001059</td>\n",
              "      <td>0.641925</td>\n",
              "      <td>0.000302</td>\n",
              "    </tr>\n",
              "    <tr>\n",
              "      <th>1</th>\n",
              "      <td>1</td>\n",
              "      <td>0.869536</td>\n",
              "      <td>0.003165</td>\n",
              "      <td>0.575553</td>\n",
              "      <td>0.002134</td>\n",
              "      <td>0.575443</td>\n",
              "      <td>0.002180</td>\n",
              "    </tr>\n",
              "    <tr>\n",
              "      <th>2</th>\n",
              "      <td>2</td>\n",
              "      <td>0.882335</td>\n",
              "      <td>0.002849</td>\n",
              "      <td>0.528024</td>\n",
              "      <td>0.001864</td>\n",
              "      <td>0.528314</td>\n",
              "      <td>0.002316</td>\n",
              "    </tr>\n",
              "    <tr>\n",
              "      <th>3</th>\n",
              "      <td>3</td>\n",
              "      <td>0.881439</td>\n",
              "      <td>0.001263</td>\n",
              "      <td>0.498249</td>\n",
              "      <td>0.002102</td>\n",
              "      <td>0.498574</td>\n",
              "      <td>0.001872</td>\n",
              "    </tr>\n",
              "    <tr>\n",
              "      <th>4</th>\n",
              "      <td>4</td>\n",
              "      <td>0.889572</td>\n",
              "      <td>0.003372</td>\n",
              "      <td>0.466554</td>\n",
              "      <td>0.003298</td>\n",
              "      <td>0.466371</td>\n",
              "      <td>0.005831</td>\n",
              "    </tr>\n",
              "    <tr>\n",
              "      <th>...</th>\n",
              "      <td>...</td>\n",
              "      <td>...</td>\n",
              "      <td>...</td>\n",
              "      <td>...</td>\n",
              "      <td>...</td>\n",
              "      <td>...</td>\n",
              "      <td>...</td>\n",
              "    </tr>\n",
              "    <tr>\n",
              "      <th>995</th>\n",
              "      <td>995</td>\n",
              "      <td>0.983403</td>\n",
              "      <td>0.000962</td>\n",
              "      <td>0.165917</td>\n",
              "      <td>0.004016</td>\n",
              "      <td>0.161332</td>\n",
              "      <td>0.002043</td>\n",
              "    </tr>\n",
              "    <tr>\n",
              "      <th>996</th>\n",
              "      <td>996</td>\n",
              "      <td>0.983404</td>\n",
              "      <td>0.000960</td>\n",
              "      <td>0.165912</td>\n",
              "      <td>0.004011</td>\n",
              "      <td>0.161330</td>\n",
              "      <td>0.002042</td>\n",
              "    </tr>\n",
              "    <tr>\n",
              "      <th>997</th>\n",
              "      <td>997</td>\n",
              "      <td>0.983407</td>\n",
              "      <td>0.000960</td>\n",
              "      <td>0.165901</td>\n",
              "      <td>0.004011</td>\n",
              "      <td>0.161321</td>\n",
              "      <td>0.002040</td>\n",
              "    </tr>\n",
              "    <tr>\n",
              "      <th>998</th>\n",
              "      <td>998</td>\n",
              "      <td>0.983407</td>\n",
              "      <td>0.000962</td>\n",
              "      <td>0.165899</td>\n",
              "      <td>0.004026</td>\n",
              "      <td>0.161315</td>\n",
              "      <td>0.002038</td>\n",
              "    </tr>\n",
              "    <tr>\n",
              "      <th>999</th>\n",
              "      <td>999</td>\n",
              "      <td>0.983412</td>\n",
              "      <td>0.000963</td>\n",
              "      <td>0.165883</td>\n",
              "      <td>0.004032</td>\n",
              "      <td>0.161301</td>\n",
              "      <td>0.002041</td>\n",
              "    </tr>\n",
              "  </tbody>\n",
              "</table>\n",
              "<p>1000 rows × 7 columns</p>\n",
              "</div>"
            ],
            "text/plain": [
              "     iterations  test-AUC-mean  ...  train-Logloss-mean  train-Logloss-std\n",
              "0             0       0.765161  ...            0.641925           0.000302\n",
              "1             1       0.869536  ...            0.575443           0.002180\n",
              "2             2       0.882335  ...            0.528314           0.002316\n",
              "3             3       0.881439  ...            0.498574           0.001872\n",
              "4             4       0.889572  ...            0.466371           0.005831\n",
              "..          ...            ...  ...                 ...                ...\n",
              "995         995       0.983403  ...            0.161332           0.002043\n",
              "996         996       0.983404  ...            0.161330           0.002042\n",
              "997         997       0.983407  ...            0.161321           0.002040\n",
              "998         998       0.983407  ...            0.161315           0.002038\n",
              "999         999       0.983412  ...            0.161301           0.002041\n",
              "\n",
              "[1000 rows x 7 columns]"
            ]
          },
          "metadata": {
            "tags": []
          },
          "execution_count": 53
        }
      ]
    },
    {
      "cell_type": "code",
      "metadata": {
        "id": "L5v-5LnJvNcu",
        "colab": {
          "base_uri": "https://localhost:8080/"
        },
        "outputId": "02c348a7-f470-49dd-cda2-2100e43e1e4c"
      },
      "source": [
        "print('Precise validation accuracy score: {}'.format(np.max(cv_data['test-AUC-mean'])))"
      ],
      "execution_count": null,
      "outputs": [
        {
          "output_type": "stream",
          "text": [
            "Precise validation accuracy score: 0.9834116591983967\n"
          ],
          "name": "stdout"
        }
      ]
    },
    {
      "cell_type": "code",
      "metadata": {
        "id": "FFEff_ZrD72Q"
      },
      "source": [
        "from sklearn.metrics import auc\n",
        "from sklearn.metrics import roc_auc_score\n",
        "from sklearn.metrics import roc_curve\n",
        "from sklearn.metrics import precision_recall_curve"
      ],
      "execution_count": null,
      "outputs": []
    },
    {
      "cell_type": "code",
      "metadata": {
        "id": "E5lCoN1tzXQX",
        "colab": {
          "base_uri": "https://localhost:8080/"
        },
        "outputId": "1e4582bc-730a-4275-9b76-487ebd66f09e"
      },
      "source": [
        "model.fit(X_train, y_train, cat_features=cat_features)"
      ],
      "execution_count": null,
      "outputs": [
        {
          "output_type": "execute_result",
          "data": {
            "text/plain": [
              "<catboost.core.CatBoostClassifier at 0x7ff7c4166320>"
            ]
          },
          "metadata": {
            "tags": []
          },
          "execution_count": 43
        }
      ]
    },
    {
      "cell_type": "code",
      "metadata": {
        "id": "iovzp4jQwDDa"
      },
      "source": [
        "y_pred=model.predict(X_test)"
      ],
      "execution_count": null,
      "outputs": []
    },
    {
      "cell_type": "code",
      "metadata": {
        "id": "3Zo2SNMDRKvR"
      },
      "source": [
        "import catboost as cb\n",
        "import catboost.utils as cbu"
      ],
      "execution_count": null,
      "outputs": []
    },
    {
      "cell_type": "code",
      "metadata": {
        "id": "sGDWap5vOF-w"
      },
      "source": [
        "def calculate_score_on_dataset_and_show_graph(X, y, model):\n",
        "    import sklearn.metrics\n",
        "    import matplotlib.pylab as pl\n",
        "    pl.style.use('ggplot')\n",
        "    \n",
        "    dataset = cb.Pool(X, y, cat_features=np.where(X.dtypes != np.float)[0])\n",
        "    fpr, tpr, _ = cbu.get_roc_curve(model, dataset, plot=True)\n",
        "    auc = sklearn.metrics.auc(fpr, tpr)\n",
        "    return auc"
      ],
      "execution_count": null,
      "outputs": []
    },
    {
      "cell_type": "code",
      "metadata": {
        "id": "r4vvCUAXP5Bk",
        "colab": {
          "base_uri": "https://localhost:8080/",
          "height": 449
        },
        "outputId": "a63b0937-110c-4f17-f20f-aeca2c9ee6a4"
      },
      "source": [
        "calculate_score_on_dataset_and_show_graph(X_train, y_train, model)"
      ],
      "execution_count": null,
      "outputs": [
        {
          "output_type": "display_data",
          "data": {
            "image/png": "[encoded data removed]",
            "text/plain": [
              "<Figure size 1152x576 with 1 Axes>"
            ]
          },
          "metadata": {
            "tags": []
          }
        },
        {
          "output_type": "execute_result",
          "data": {
            "text/plain": [
              "0.9932783818014205"
            ]
          },
          "metadata": {
            "tags": []
          },
          "execution_count": 63
        }
      ]
    },
    {
      "cell_type": "code",
      "metadata": {
        "id": "MXCDA4PrzsYU",
        "colab": {
          "base_uri": "https://localhost:8080/"
        },
        "outputId": "e0f614cc-0b3f-45bd-d235-236a5e455f06"
      },
      "source": [
        "from sklearn.metrics import confusion_matrix\n",
        "confusion_matrix(y_test,y_pred)"
      ],
      "execution_count": null,
      "outputs": [
        {
          "output_type": "execute_result",
          "data": {
            "text/plain": [
              "array([[4905,  395],\n",
              "       [ 295, 5057]])"
            ]
          },
          "metadata": {
            "tags": []
          },
          "execution_count": 37
        }
      ]
    },
    {
      "cell_type": "code",
      "metadata": {
        "id": "GyPkYVyOzyAC",
        "colab": {
          "base_uri": "https://localhost:8080/"
        },
        "outputId": "7e7cc581-d2cb-4102-bcee-5305133e5826"
      },
      "source": [
        "from sklearn.metrics import accuracy_score\n",
        "accuracy_score(y_test,y_pred)"
      ],
      "execution_count": null,
      "outputs": [
        {
          "output_type": "execute_result",
          "data": {
            "text/plain": [
              "0.9352234322193015"
            ]
          },
          "metadata": {
            "tags": []
          },
          "execution_count": 38
        }
      ]
    },
    {
      "cell_type": "code",
      "metadata": {
        "id": "MpfYfNScz0Xm",
        "colab": {
          "base_uri": "https://localhost:8080/",
          "height": 173
        },
        "outputId": "4a07bc2e-d5bd-4c03-d748-2c800e0d1a00"
      },
      "source": [
        "from sklearn.metrics import classification_report\n",
        "print(classification_report(y_test,y_pred))"
      ],
      "execution_count": null,
      "outputs": [
        {
          "output_type": "stream",
          "text": [
            "              precision    recall  f1-score   support\n",
            "\n",
            "          no       0.93      0.95      0.94      5300\n",
            "         yes       0.95      0.93      0.94      5352\n",
            "\n",
            "    accuracy                           0.94     10652\n",
            "   macro avg       0.94      0.94      0.94     10652\n",
            "weighted avg       0.94      0.94      0.94     10652\n",
            "\n"
          ],
          "name": "stdout"
        }
      ]
    }
  ]
}